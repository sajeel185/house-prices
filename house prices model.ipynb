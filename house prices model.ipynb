{
 "cells": [
  {
   "cell_type": "code",
   "execution_count": 2,
   "metadata": {},
   "outputs": [],
   "source": [
    "import pandas as pd\n",
    "import numpy as np\n",
    "import matplotlib.pyplot as plt\n",
    "%matplotlib inline\n",
    "import seaborn as sns\n",
    "from sklearn.naive_bayes import BernoulliNB\n",
    "from sklearn.model_selection import train_test_split\n",
    "from sklearn.neighbors import KNeighborsClassifier\n",
    "from scipy import stats\n",
    "from sklearn.model_selection import cross_val_score\n",
    "from sklearn.model_selection import GridSearchCV\n",
    "from sklearn import ensemble\n",
    "from sklearn import tree\n",
    "from sklearn.linear_model import LogisticRegression\n",
    "from sklearn import metrics\n",
    "import datetime\n",
    "from sklearn.preprocessing import StandardScaler\n",
    "from sklearn.decomposition import PCA\n",
    "from sklearn.feature_selection import SelectKBest"
   ]
  },
  {
   "cell_type": "code",
   "execution_count": 3,
   "metadata": {},
   "outputs": [
    {
     "name": "stdout",
     "output_type": "stream",
     "text": [
      "       Suburb             Address  Rooms Type      Price Method SellerG  \\\n",
      "0  Abbotsford       68 Studley St      2    h        NaN     SS  Jellis   \n",
      "1  Abbotsford        85 Turner St      2    h  1480000.0      S  Biggin   \n",
      "2  Abbotsford     25 Bloomburg St      2    h  1035000.0      S  Biggin   \n",
      "3  Abbotsford  18/659 Victoria St      3    u        NaN     VB  Rounds   \n",
      "4  Abbotsford        5 Charles St      3    h  1465000.0     SP  Biggin   \n",
      "\n",
      "        Date  Distance  Postcode      ...       Bathroom  Car  Landsize  \\\n",
      "0   3/9/2016       2.5    3067.0      ...            1.0  1.0     126.0   \n",
      "1  3/12/2016       2.5    3067.0      ...            1.0  1.0     202.0   \n",
      "2   4/2/2016       2.5    3067.0      ...            1.0  0.0     156.0   \n",
      "3   4/2/2016       2.5    3067.0      ...            2.0  1.0       0.0   \n",
      "4   4/3/2017       2.5    3067.0      ...            2.0  0.0     134.0   \n",
      "\n",
      "   BuildingArea  YearBuilt         CouncilArea Lattitude  Longtitude  \\\n",
      "0           NaN        NaN  Yarra City Council  -37.8014    144.9958   \n",
      "1           NaN        NaN  Yarra City Council  -37.7996    144.9984   \n",
      "2          79.0     1900.0  Yarra City Council  -37.8079    144.9934   \n",
      "3           NaN        NaN  Yarra City Council  -37.8114    145.0116   \n",
      "4         150.0     1900.0  Yarra City Council  -37.8093    144.9944   \n",
      "\n",
      "              Regionname Propertycount  \n",
      "0  Northern Metropolitan        4019.0  \n",
      "1  Northern Metropolitan        4019.0  \n",
      "2  Northern Metropolitan        4019.0  \n",
      "3  Northern Metropolitan        4019.0  \n",
      "4  Northern Metropolitan        4019.0  \n",
      "\n",
      "[5 rows x 21 columns]\n",
      "(34856, 21)\n"
     ]
    }
   ],
   "source": [
    "df = pd.read_csv('Melbourne housing.csv')\n",
    "df = df.drop_duplicates()\n",
    "print(df.head())\n",
    "print(df.shape)"
   ]
  },
  {
   "cell_type": "code",
   "execution_count": 4,
   "metadata": {},
   "outputs": [
    {
     "name": "stdout",
     "output_type": "stream",
     "text": [
      "<class 'pandas.core.frame.DataFrame'>\n",
      "Int64Index: 34856 entries, 0 to 34856\n",
      "Data columns (total 21 columns):\n",
      "Suburb           34856 non-null object\n",
      "Address          34856 non-null object\n",
      "Rooms            34856 non-null int64\n",
      "Type             34856 non-null object\n",
      "Price            27247 non-null float64\n",
      "Method           34856 non-null object\n",
      "SellerG          34856 non-null object\n",
      "Date             34856 non-null object\n",
      "Distance         34855 non-null float64\n",
      "Postcode         34855 non-null float64\n",
      "Bedroom2         26639 non-null float64\n",
      "Bathroom         26630 non-null float64\n",
      "Car              26128 non-null float64\n",
      "Landsize         23046 non-null float64\n",
      "BuildingArea     13741 non-null float64\n",
      "YearBuilt        15550 non-null float64\n",
      "CouncilArea      34853 non-null object\n",
      "Lattitude        26880 non-null float64\n",
      "Longtitude       26880 non-null float64\n",
      "Regionname       34853 non-null object\n",
      "Propertycount    34853 non-null float64\n",
      "dtypes: float64(12), int64(1), object(8)\n",
      "memory usage: 5.9+ MB\n",
      "None\n"
     ]
    }
   ],
   "source": [
    "print(df.info())"
   ]
  },
  {
   "cell_type": "code",
   "execution_count": 5,
   "metadata": {},
   "outputs": [
    {
     "name": "stdout",
     "output_type": "stream",
     "text": [
      "(34856, 367)\n"
     ]
    }
   ],
   "source": [
    "#splitting the data\n",
    "\n",
    "#dropping unnecessary columns\n",
    "pre_X = df.drop(['Price', 'Address', 'Lattitude', 'Longtitude', 'CouncilArea', 'Method', 'SellerG', 'Date', 'Distance', \n",
    "                 'Propertycount', 'Type'], 1)\n",
    "\n",
    "#getting dummy values for categorical data, and creating dataframe of the independent (predictor) values\n",
    "X_df = pd.get_dummies(pre_X, columns=['Suburb', 'Regionname'])\n",
    "\n",
    "#creating dependent variable\n",
    "Y = df['Price']\n",
    "#print(X_df.head())\n",
    "print(X_df.shape)"
   ]
  },
  {
   "cell_type": "code",
   "execution_count": 6,
   "metadata": {},
   "outputs": [
    {
     "name": "stdout",
     "output_type": "stream",
     "text": [
      "AxesSubplot(0.125,0.125;0.62x0.755)\n"
     ]
    },
    {
     "data": {
      "image/png": "[encoded data removed]",
      "text/plain": [
       "<Figure size 864x648 with 2 Axes>"
      ]
     },
     "metadata": {
      "needs_background": "light"
     },
     "output_type": "display_data"
    }
   ],
   "source": [
    "# Set up the matplotlib figure.\n",
    "f, ax = plt.subplots(figsize=(12, 9))\n",
    "\n",
    "\n",
    "#Creating a heatmap to check for any correlation between our independent variables\n",
    "Xvar_heatmap = sns.heatmap(pre_X.corr(), vmin=-1, vmax=1)\n",
    "\n",
    "print(Xvar_heatmap)"
   ]
  },
  {
   "cell_type": "code",
   "execution_count": 18,
   "metadata": {},
   "outputs": [],
   "source": [
    "#get a boolean form of dataframe to check if theres any blanks\n",
    "#np.isnan(X_df)"
   ]
  },
  {
   "cell_type": "code",
   "execution_count": 7,
   "metadata": {},
   "outputs": [
    {
     "data": {
      "text/plain": [
       "Rooms                                        0\n",
       "Postcode                                     1\n",
       "Bedroom2                                  8217\n",
       "Bathroom                                  8226\n",
       "Car                                       8728\n",
       "Landsize                                 11810\n",
       "BuildingArea                             21115\n",
       "YearBuilt                                19306\n",
       "Suburb_Abbotsford                            0\n",
       "Suburb_Aberfeldie                            0\n",
       "Suburb_Airport West                          0\n",
       "Suburb_Albanvale                             0\n",
       "Suburb_Albert Park                           0\n",
       "Suburb_Albion                                0\n",
       "Suburb_Alphington                            0\n",
       "Suburb_Altona                                0\n",
       "Suburb_Altona Meadows                        0\n",
       "Suburb_Altona North                          0\n",
       "Suburb_Ardeer                                0\n",
       "Suburb_Armadale                              0\n",
       "Suburb_Ascot Vale                            0\n",
       "Suburb_Ashburton                             0\n",
       "Suburb_Ashwood                               0\n",
       "Suburb_Aspendale                             0\n",
       "Suburb_Aspendale Gardens                     0\n",
       "Suburb_Attwood                               0\n",
       "Suburb_Avondale Heights                      0\n",
       "Suburb_Avonsleigh                            0\n",
       "Suburb_Bacchus Marsh                         0\n",
       "Suburb_Balaclava                             0\n",
       "                                         ...  \n",
       "Suburb_Watsonia North                        0\n",
       "Suburb_Wattle Glen                           0\n",
       "Suburb_Werribee                              0\n",
       "Suburb_Werribee South                        0\n",
       "Suburb_West Footscray                        0\n",
       "Suburb_West Melbourne                        0\n",
       "Suburb_Westmeadows                           0\n",
       "Suburb_Wheelers Hill                         0\n",
       "Suburb_Whittlesea                            0\n",
       "Suburb_Wildwood                              0\n",
       "Suburb_Williams Landing                      0\n",
       "Suburb_Williamstown                          0\n",
       "Suburb_Williamstown North                    0\n",
       "Suburb_Windsor                               0\n",
       "Suburb_Wollert                               0\n",
       "Suburb_Wonga Park                            0\n",
       "Suburb_Wyndham Vale                          0\n",
       "Suburb_Yallambie                             0\n",
       "Suburb_Yarra Glen                            0\n",
       "Suburb_Yarraville                            0\n",
       "Suburb_croydon                               0\n",
       "Suburb_viewbank                              0\n",
       "Regionname_Eastern Metropolitan              0\n",
       "Regionname_Eastern Victoria                  0\n",
       "Regionname_Northern Metropolitan             0\n",
       "Regionname_Northern Victoria                 0\n",
       "Regionname_South-Eastern Metropolitan        0\n",
       "Regionname_Southern Metropolitan             0\n",
       "Regionname_Western Metropolitan              0\n",
       "Regionname_Western Victoria                  0\n",
       "Length: 367, dtype: int64"
      ]
     },
     "execution_count": 7,
     "metadata": {},
     "output_type": "execute_result"
    }
   ],
   "source": [
    "X_df.isnull().sum()"
   ]
  },
  {
   "cell_type": "code",
   "execution_count": 8,
   "metadata": {},
   "outputs": [
    {
     "name": "stdout",
     "output_type": "stream",
     "text": [
      "Null values in Bedroom2 column:  0\n",
      "Null values in Bathroom column:  0\n",
      "Null values in Car column:  0\n",
      "Null values in Postcode column:  0\n",
      "Null values in YearBuilt column:  0\n"
     ]
    }
   ],
   "source": [
    "#taking care of missing data\n",
    "\n",
    "#fixing missing data in Bedroom2 column\n",
    "X_df['Bedroom2'].ffill(axis=0, inplace=True)\n",
    "print('Null values in Bedroom2 column: ', X_df['Bedroom2'].isnull().sum())\n",
    "\n",
    "#fixing missing data in Bathroom column\n",
    "X_df['Bathroom'].ffill(axis=0, inplace=True)\n",
    "print('Null values in Bathroom column: ', X_df['Bathroom'].isnull().sum())\n",
    "\n",
    "#fixing missing data in Car column\n",
    "X_df['Car'].ffill(axis=0, inplace=True)\n",
    "print('Null values in Car column: ', X_df['Car'].isnull().sum())\n",
    "\n",
    "\n",
    "#fixing missing data in postcode column\n",
    "X_df['Postcode'].ffill(axis=0, inplace=True)\n",
    "print('Null values in Postcode column: ', X_df['Postcode'].isnull().sum())\n",
    "\n",
    "#fixing missing data in YearBuilt column\n",
    "X_df['YearBuilt'].bfill(axis=0, inplace=True)\n",
    "print('Null values in YearBuilt column: ', X_df['YearBuilt'].isnull().sum())\n",
    "\n",
    "#fixing missing data in Regionname column\n",
    "#X_df['Regionname'].ffill(axis=0, inplace=True)\n",
    "#print('Null values in Regionname column: ', X_df['Regionname'].isnull().sum())\n",
    "\n",
    "#fixing missing data in property count column\n",
    "#X_df['Propertycount'].bfill(axis=0, inplace=True)\n",
    "#print('Null values in Propertycount column: ', X_df['Propertycount'].isnull().sum())\n",
    "\n",
    "#fixing missing data in Landsize and BuildingArea columns\n",
    "X_df['Landsize'].fillna(np.mean(X_df['Landsize']), inplace=True)\n",
    "X_df['BuildingArea'].fillna(np.mean(X_df['BuildingArea']), inplace=True)"
   ]
  },
  {
   "cell_type": "code",
   "execution_count": 9,
   "metadata": {},
   "outputs": [
    {
     "name": "stdout",
     "output_type": "stream",
     "text": [
      "Total Null values in dataframe after fixing missing data:  0\n"
     ]
    }
   ],
   "source": [
    "df_null_values = X_df.isnull().sum().sum()\n",
    "\n",
    "print('Total Null values in dataframe after fixing missing data: ', df_null_values)"
   ]
  },
  {
   "cell_type": "code",
   "execution_count": 10,
   "metadata": {},
   "outputs": [
    {
     "name": "stdout",
     "output_type": "stream",
     "text": [
      "   Rooms  Postcode  Bedroom2  Bathroom  Car  Landsize  BuildingArea  \\\n",
      "0      2      3067         2         1    1       126           160   \n",
      "1      2      3067         2         1    1       202           160   \n",
      "2      2      3067         2         1    0       156            79   \n",
      "3      3      3067         3         2    1         0           160   \n",
      "4      3      3067         3         2    0       134           150   \n",
      "\n",
      "   YearBuilt  Suburb_Abbotsford  Suburb_Aberfeldie     ...       \\\n",
      "0       1900                  1                  0     ...        \n",
      "1       1900                  1                  0     ...        \n",
      "2       1900                  1                  0     ...        \n",
      "3       1900                  1                  0     ...        \n",
      "4       1900                  1                  0     ...        \n",
      "\n",
      "   Suburb_viewbank  Regionname_Eastern Metropolitan  \\\n",
      "0                0                                0   \n",
      "1                0                                0   \n",
      "2                0                                0   \n",
      "3                0                                0   \n",
      "4                0                                0   \n",
      "\n",
      "   Regionname_Eastern Victoria  Regionname_Northern Metropolitan  \\\n",
      "0                            0                                 1   \n",
      "1                            0                                 1   \n",
      "2                            0                                 1   \n",
      "3                            0                                 1   \n",
      "4                            0                                 1   \n",
      "\n",
      "   Regionname_Northern Victoria  Regionname_South-Eastern Metropolitan  \\\n",
      "0                             0                                      0   \n",
      "1                             0                                      0   \n",
      "2                             0                                      0   \n",
      "3                             0                                      0   \n",
      "4                             0                                      0   \n",
      "\n",
      "   Regionname_Southern Metropolitan  Regionname_Western Metropolitan  \\\n",
      "0                                 0                                0   \n",
      "1                                 0                                0   \n",
      "2                                 0                                0   \n",
      "3                                 0                                0   \n",
      "4                                 0                                0   \n",
      "\n",
      "   Regionname_Western Victoria  PropertyAge  \n",
      "0                            0          119  \n",
      "1                            0          119  \n",
      "2                            0          119  \n",
      "3                            0          119  \n",
      "4                            0          119  \n",
      "\n",
      "[5 rows x 368 columns]\n"
     ]
    }
   ],
   "source": [
    "#creating a new feature by Recoding the year built column to reflect and compare the age of the houses.\n",
    "X_df['PropertyAge'] = 2019 - X_df['YearBuilt']\n",
    "\n",
    "\n",
    "\n",
    "#Recoding our Type column from a categorcial to a numeric column.\n",
    "#X_df['Type'] = X_df['Type'].map({'h':1, \"u\":2, \"t\":3})\n",
    "\n",
    "#changing the variables with type float to type int\n",
    "X_df['BuildingArea'] = X_df['BuildingArea'].astype(int)\n",
    "X_df['YearBuilt'] = X_df['YearBuilt'].astype(int)\n",
    "#X_df['Propertycount'] = X_df['Propertycount'].astype(int)\n",
    "X_df['Landsize'] = X_df['Landsize'].astype(int)\n",
    "X_df['Postcode'] = X_df['Postcode'].astype(int)\n",
    "X_df['PropertyAge'] = X_df['PropertyAge'].astype(int)\n",
    "X_df['Bedroom2'] = X_df['Bedroom2'].astype(int)\n",
    "X_df['Bathroom'] = X_df['Bathroom'].astype(int)\n",
    "X_df['PropertyAge'] = X_df['PropertyAge'].astype(int)\n",
    "X_df['Car'] = X_df['Car'].astype(int)\n",
    "\n",
    "\n",
    "print(X_df.head())"
   ]
  },
  {
   "cell_type": "code",
   "execution_count": 21,
   "metadata": {},
   "outputs": [
    {
     "data": {
      "text/plain": [
       "(array([], dtype=int64), array([], dtype=int64))"
      ]
     },
     "execution_count": 21,
     "metadata": {},
     "output_type": "execute_result"
    }
   ],
   "source": [
    "np.where(X_df.values >= np.finfo(np.float64).max)"
   ]
  },
  {
   "cell_type": "code",
   "execution_count": 22,
   "metadata": {},
   "outputs": [],
   "source": [
    "#initial set of train and test groups, before applying SelectKBest and PCA.\n",
    "\n",
    "train_X, test_X, train_Y, test_Y = train_test_split(X_df, Y, test_size=.3, random_state=10)"
   ]
  },
  {
   "cell_type": "code",
   "execution_count": 23,
   "metadata": {},
   "outputs": [
    {
     "name": "stderr",
     "output_type": "stream",
     "text": [
      "C:\\Users\\PV-R68G\\Anaconda3\\lib\\site-packages\\sklearn\\ensemble\\forest.py:246: FutureWarning: The default value of n_estimators will change from 10 in version 0.20 to 100 in 0.22.\n",
      "  \"10 in version 0.20 to 100 in 0.22.\", FutureWarning)\n"
     ]
    },
    {
     "ename": "ValueError",
     "evalue": "Input contains NaN, infinity or a value too large for dtype('float64').",
     "output_type": "error",
     "traceback": [
      "\u001b[1;31m---------------------------------------------------------------------------\u001b[0m",
      "\u001b[1;31mValueError\u001b[0m                                Traceback (most recent call last)",
      "\u001b[1;32m<ipython-input-23-2ed7c98ceec5>\u001b[0m in \u001b[0;36m<module>\u001b[1;34m()\u001b[0m\n\u001b[0;32m      4\u001b[0m \u001b[1;31m#initialize and fit the the first random forest regression model using full data.\u001b[0m\u001b[1;33m\u001b[0m\u001b[1;33m\u001b[0m\u001b[0m\n\u001b[0;32m      5\u001b[0m \u001b[0mforest_regr\u001b[0m \u001b[1;33m=\u001b[0m \u001b[0mensemble\u001b[0m\u001b[1;33m.\u001b[0m\u001b[0mRandomForestRegressor\u001b[0m\u001b[1;33m(\u001b[0m\u001b[1;33m)\u001b[0m\u001b[1;33m\u001b[0m\u001b[0m\n\u001b[1;32m----> 6\u001b[1;33m \u001b[0mforest_regr\u001b[0m\u001b[1;33m.\u001b[0m\u001b[0mfit\u001b[0m\u001b[1;33m(\u001b[0m\u001b[0mtrain_X\u001b[0m\u001b[1;33m,\u001b[0m \u001b[0mtrain_Y\u001b[0m\u001b[1;33m)\u001b[0m\u001b[1;33m\u001b[0m\u001b[0m\n\u001b[0m\u001b[0;32m      7\u001b[0m \u001b[1;33m\u001b[0m\u001b[0m\n\u001b[0;32m      8\u001b[0m \u001b[1;31m# Classify, storing the result in a new variable.\u001b[0m\u001b[1;33m\u001b[0m\u001b[1;33m\u001b[0m\u001b[0m\n",
      "\u001b[1;32m~\\Anaconda3\\lib\\site-packages\\sklearn\\ensemble\\forest.py\u001b[0m in \u001b[0;36mfit\u001b[1;34m(self, X, y, sample_weight)\u001b[0m\n\u001b[0;32m    249\u001b[0m         \u001b[1;31m# Validate or convert input data\u001b[0m\u001b[1;33m\u001b[0m\u001b[1;33m\u001b[0m\u001b[0m\n\u001b[0;32m    250\u001b[0m         \u001b[0mX\u001b[0m \u001b[1;33m=\u001b[0m \u001b[0mcheck_array\u001b[0m\u001b[1;33m(\u001b[0m\u001b[0mX\u001b[0m\u001b[1;33m,\u001b[0m \u001b[0maccept_sparse\u001b[0m\u001b[1;33m=\u001b[0m\u001b[1;34m\"csc\"\u001b[0m\u001b[1;33m,\u001b[0m \u001b[0mdtype\u001b[0m\u001b[1;33m=\u001b[0m\u001b[0mDTYPE\u001b[0m\u001b[1;33m)\u001b[0m\u001b[1;33m\u001b[0m\u001b[0m\n\u001b[1;32m--> 251\u001b[1;33m         \u001b[0my\u001b[0m \u001b[1;33m=\u001b[0m \u001b[0mcheck_array\u001b[0m\u001b[1;33m(\u001b[0m\u001b[0my\u001b[0m\u001b[1;33m,\u001b[0m \u001b[0maccept_sparse\u001b[0m\u001b[1;33m=\u001b[0m\u001b[1;34m'csc'\u001b[0m\u001b[1;33m,\u001b[0m \u001b[0mensure_2d\u001b[0m\u001b[1;33m=\u001b[0m\u001b[1;32mFalse\u001b[0m\u001b[1;33m,\u001b[0m \u001b[0mdtype\u001b[0m\u001b[1;33m=\u001b[0m\u001b[1;32mNone\u001b[0m\u001b[1;33m)\u001b[0m\u001b[1;33m\u001b[0m\u001b[0m\n\u001b[0m\u001b[0;32m    252\u001b[0m         \u001b[1;32mif\u001b[0m \u001b[0msample_weight\u001b[0m \u001b[1;32mis\u001b[0m \u001b[1;32mnot\u001b[0m \u001b[1;32mNone\u001b[0m\u001b[1;33m:\u001b[0m\u001b[1;33m\u001b[0m\u001b[0m\n\u001b[0;32m    253\u001b[0m             \u001b[0msample_weight\u001b[0m \u001b[1;33m=\u001b[0m \u001b[0mcheck_array\u001b[0m\u001b[1;33m(\u001b[0m\u001b[0msample_weight\u001b[0m\u001b[1;33m,\u001b[0m \u001b[0mensure_2d\u001b[0m\u001b[1;33m=\u001b[0m\u001b[1;32mFalse\u001b[0m\u001b[1;33m)\u001b[0m\u001b[1;33m\u001b[0m\u001b[0m\n",
      "\u001b[1;32m~\\Anaconda3\\lib\\site-packages\\sklearn\\utils\\validation.py\u001b[0m in \u001b[0;36mcheck_array\u001b[1;34m(array, accept_sparse, accept_large_sparse, dtype, order, copy, force_all_finite, ensure_2d, allow_nd, ensure_min_samples, ensure_min_features, warn_on_dtype, estimator)\u001b[0m\n\u001b[0;32m    571\u001b[0m         \u001b[1;32mif\u001b[0m \u001b[0mforce_all_finite\u001b[0m\u001b[1;33m:\u001b[0m\u001b[1;33m\u001b[0m\u001b[0m\n\u001b[0;32m    572\u001b[0m             _assert_all_finite(array,\n\u001b[1;32m--> 573\u001b[1;33m                                allow_nan=force_all_finite == 'allow-nan')\n\u001b[0m\u001b[0;32m    574\u001b[0m \u001b[1;33m\u001b[0m\u001b[0m\n\u001b[0;32m    575\u001b[0m     \u001b[0mshape_repr\u001b[0m \u001b[1;33m=\u001b[0m \u001b[0m_shape_repr\u001b[0m\u001b[1;33m(\u001b[0m\u001b[0marray\u001b[0m\u001b[1;33m.\u001b[0m\u001b[0mshape\u001b[0m\u001b[1;33m)\u001b[0m\u001b[1;33m\u001b[0m\u001b[0m\n",
      "\u001b[1;32m~\\Anaconda3\\lib\\site-packages\\sklearn\\utils\\validation.py\u001b[0m in \u001b[0;36m_assert_all_finite\u001b[1;34m(X, allow_nan)\u001b[0m\n\u001b[0;32m     54\u001b[0m                 not allow_nan and not np.isfinite(X).all()):\n\u001b[0;32m     55\u001b[0m             \u001b[0mtype_err\u001b[0m \u001b[1;33m=\u001b[0m \u001b[1;34m'infinity'\u001b[0m \u001b[1;32mif\u001b[0m \u001b[0mallow_nan\u001b[0m \u001b[1;32melse\u001b[0m \u001b[1;34m'NaN, infinity'\u001b[0m\u001b[1;33m\u001b[0m\u001b[0m\n\u001b[1;32m---> 56\u001b[1;33m             \u001b[1;32mraise\u001b[0m \u001b[0mValueError\u001b[0m\u001b[1;33m(\u001b[0m\u001b[0mmsg_err\u001b[0m\u001b[1;33m.\u001b[0m\u001b[0mformat\u001b[0m\u001b[1;33m(\u001b[0m\u001b[0mtype_err\u001b[0m\u001b[1;33m,\u001b[0m \u001b[0mX\u001b[0m\u001b[1;33m.\u001b[0m\u001b[0mdtype\u001b[0m\u001b[1;33m)\u001b[0m\u001b[1;33m)\u001b[0m\u001b[1;33m\u001b[0m\u001b[0m\n\u001b[0m\u001b[0;32m     57\u001b[0m \u001b[1;33m\u001b[0m\u001b[0m\n\u001b[0;32m     58\u001b[0m \u001b[1;33m\u001b[0m\u001b[0m\n",
      "\u001b[1;31mValueError\u001b[0m: Input contains NaN, infinity or a value too large for dtype('float64')."
     ]
    }
   ],
   "source": [
    "#set start time\n",
    "start_time_rforest = datetime.datetime.now()\n",
    "\n",
    "#initialize and fit the the first random forest regression model using full data.\n",
    "forest_regr = ensemble.RandomForestRegressor()\n",
    "forest_regr.fit(train_X, train_Y)\n",
    "\n",
    "# Classify, storing the result in a new variable.\n",
    "y_pred_rforest = forest_regr.predict(test_X)\n",
    "\n",
    "#get accuracy score from our model\n",
    "print('Accuracy score for Random Forest regression Model: ' + str(metrics.accuracy_score(test_Y, y_pred_rforest)))\n",
    "\n",
    "#calculate end time\n",
    "end_time_rforest = datetime.datetime.now()\n",
    "\n",
    "#get average accuracy score of our random forest through cross validation\n",
    "rforest_cvs = cross_val_score(forest_regr, X_df, Y, cv=5, scoring='accuracy')\n",
    "print(rforest_cvs)\n",
    "print('Average cross validated score from our Random Forest Model is: ' + str(np.mean(rforest_cvs)))"
   ]
  },
  {
   "cell_type": "code",
   "execution_count": null,
   "metadata": {},
   "outputs": [],
   "source": [
    "#print(X_df.Regionname.value_counts(dropna=False))\n",
    "#converting the categorical values in regionname to numerical\n",
    "\n",
    "#X['Regionname'] = X[\"Regionname\"].map({'Southern Metropolitan':1, \"Northern Metropolitan\":2, \"Western Metropolitan\":3,\n",
    "#                                       \"Eastern Metropolitan\":4, \"South-Eastern Metropolitan\":5, \"Eastern Victoria\":6,\n",
    "#                                        \"Northern Victoria\":7, \"Western Victoria\":8})\n",
    "#print(X['Regionname'])\n"
   ]
  },
  {
   "cell_type": "code",
   "execution_count": null,
   "metadata": {},
   "outputs": [],
   "source": [
    "#create a parigrid to check the relationship of the indepependent variables.\n",
    "#g = sns.PairGrid(df)\n",
    "#g = g.map(plt.scatter)"
   ]
  },
  {
   "cell_type": "code",
   "execution_count": null,
   "metadata": {},
   "outputs": [],
   "source": [
    "#plotting the relationship between the independent and dependent variables, as well as the histograpsh of independent variables.\n",
    "plt.figure(figsize=(10, 5))\n",
    "\n",
    "plt.subplot(1, 2, 1)\n",
    "plt.scatter(x = new_df['ClumpThickness'], y = new_df['Class'], color='blue')\n",
    "plt.ylabel('Values')\n",
    "plt.title('Relationship between ClumpThickness and Class')\n",
    "\n",
    "plt.subplot(1, 2, 2)\n",
    "plt.hist(new_df['ClumpThickness'], color='green')\n",
    "plt.axvline(new_df['ClumpThickness'].mean(), color='b', linestyle='solid', linewidth=2)\n",
    "plt.axvline(new_df['ClumpThickness'].mean() + new_df['ClumpThickness'].std(), color='b', linestyle='dashed', linewidth=2)\n",
    "plt.axvline(new_df['ClumpThickness'].mean()- new_df['ClumpThickness'].std(), color='b', linestyle='dashed', linewidth=2) \n",
    "plt.ylabel('values')\n",
    "plt.title('ClumpThickness')\n",
    "\n",
    "plt.tight_layout()\n",
    "#plt.show()"
   ]
  }
 ],
 "metadata": {
  "kernelspec": {
   "display_name": "Python 3",
   "language": "python",
   "name": "python3"
  },
  "language_info": {
   "codemirror_mode": {
    "name": "ipython",
    "version": 3
   },
   "file_extension": ".py",
   "mimetype": "text/x-python",
   "name": "python",
   "nbconvert_exporter": "python",
   "pygments_lexer": "ipython3",
   "version": "3.7.0"
  }
 },
 "nbformat": 4,
 "nbformat_minor": 2
}
